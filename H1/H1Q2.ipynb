{
 "cells": [
  {
   "cell_type": "markdown",
   "metadata": {},
   "source": [
    "# Question 2\n",
    "\n",
    "Once the P&L’s from the 49 scenarios have been calculated and written to the OptionsData worksheet, create a pivot-table that can display the P&L from one of these scenarios as a function of strike (rows), maturity (columns) and underlying security (page or filter)."
   ]
  }
 ],
 "metadata": {
  "language_info": {
   "name": "python"
  }
 },
 "nbformat": 4,
 "nbformat_minor": 2
}
