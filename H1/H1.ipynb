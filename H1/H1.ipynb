{
 "cells": [
  {
   "cell_type": "markdown",
   "metadata": {},
   "source": [
    "# Homework 1"
   ]
  },
  {
   "cell_type": "markdown",
   "metadata": {},
   "source": [
    "## Question 1\n",
    "\n",
    "- The inspiration for this problem and the data itself is from Prof. Haugh's Quantitative Risk Management course (IEOR E4602) taught at Columbia University in 2016.\n",
    "\n",
    "- Consider the options data in the OptionsPivotTables.xls Excel workbook.\n",
    "- We want to consider joint stresses of the underlying security price and implied volatility. \n",
    "- In particular, we want to consider shifting the underlying security by -20\\%, -10\\%, -5\\%, 0\\%, +5\\%, +10\\% and +20\\%, and shifting the implied volatility by -5, -2, 0, +2, +5, +10 and +20 volatility points. We therefore have a total of 7 × 7 = 49 scenarios.\n",
    "\n",
    "- **Write a Python program that takes all the options data in the OptionsData worksheet, computes the P&L for each option under each scenario and outputs the results to the same\n",
    "spreadsheet beginning at column AR.**"
   ]
  },
  {
   "cell_type": "markdown",
   "metadata": {},
   "source": [
    "### Solution\n",
    "\n",
    "- First, we count the number of assets in our portfolio. This value is saved as ``NumPosition``."
   ]
  },
  {
   "cell_type": "code",
   "execution_count": 1,
   "metadata": {},
   "outputs": [
    {
     "name": "stdout",
     "output_type": "stream",
     "text": [
      "83\n"
     ]
    }
   ],
   "source": [
    "from openpyxl import load_workbook\n",
    "from openpyxl.styles import Alignment\n",
    "\n",
    "file_path = 'C://Users//yoshi//OneDrive//Desktop//Teaching//CFRM541 QRM//QRM_Git//QRM//H1//OptionsPivotTables.xlsm'\n",
    "\n",
    "wb = load_workbook(filename=file_path, read_only=False, keep_vba=True)\n",
    "\n",
    "ws = wb['OptionsData']  # or wb.active\n",
    "\n",
    "r = 5\n",
    "row = ws[r][1].value\n",
    "NumPosition = 0\n",
    "while row is not None:\n",
    "    NumPosition += 1\n",
    "    r += 1\n",
    "    row = ws[r][0].value\n",
    "\n",
    "print(NumPosition)\n"
   ]
  },
  {
   "cell_type": "markdown",
   "metadata": {},
   "source": [
    "- Next, we loop over each portfolio component, and insert the appropriate formula for the variation in the option price starting from cell AR5 in the OptionData worksheet."
   ]
  },
  {
   "cell_type": "code",
   "execution_count": 2,
   "metadata": {},
   "outputs": [],
   "source": [
    "# Define a lambda function to get Excel worksheet column letter from number\n",
    "excel_col_name = lambda n: '' if n <= 0 else excel_col_name((n - 1) // 26) + chr((n - 1) % 26 + ord('A'))\n",
    "excel_col_num = lambda a: 0 if a == '' else 1 + ord(a[-1]) - ord('A') + 26 * excel_col_num(a[:-1]) # This is to convert back to number\n",
    "\n",
    "# Define scenarios\n",
    "S = list([0.8,0.9,0.95,1,1.05,1.1,1.2])\n",
    "V = list([-0.05,-0.02,0,0.02,0.05,0.1,0.2])\n",
    "scenarios = [(s,v) for s in S for v in V] # list comprehension to get all scenarios as combinations of underlying and implied volatility scenarios\n",
    "\n",
    "# Define header of scenario table and adjust column width\n",
    "c = excel_col_num(\"AR\")\n",
    "for (s,v) in scenarios:\n",
    "    ss = str(s)\n",
    "    vv = str(v)\n",
    "    ws[excel_col_name(c)+str(4)].value = f\"Und {round((s-1)*100)}%, ImpVol {round(100*v)}%\"\n",
    "    ws.column_dimensions[excel_col_name(c)].width = 19*1.23\n",
    "    ws[excel_col_name(c)+str(4)].alignment = Alignment(horizontal='center')\n",
    "    c += 1\n",
    "\n",
    "\n",
    "# Loop through all scenarios and fill up table with value change\n",
    "for r in range(5,NumPosition):\n",
    "    c = excel_col_num(\"AR\")\n",
    "    for (s,v) in scenarios:\n",
    "        ss = str(s)\n",
    "        vv = str(v)\n",
    "        fun = f\"=(BSPrice($B{r}*{s},$J{r}+{v}, $K{r}, $C{r}, ($I{r}-$B$1)/365, $G{r}, $H{r}, $D{r}) - BSPrice($B{r},$J{r}, $K{r}, $C{r}, ($I{r}-$B$1)/365, $G{r}, $H{r}, $D{r})) * $F{r}\"\n",
    "        ws[excel_col_name(c)+str(r)].value = fun\n",
    "        ws[excel_col_name(c)+str(r)].alignment = Alignment(horizontal='center')\n",
    "        ws[excel_col_name(c)+str(r)].number_format = '0'\n",
    "        c += 1\n",
    "\n",
    "# Save file                                                       \n",
    "wb.save(file_path)"
   ]
  },
  {
   "cell_type": "markdown",
   "metadata": {},
   "source": [
    "- Finally, check the workbook"
   ]
  },
  {
   "cell_type": "code",
   "execution_count": 1,
   "metadata": {},
   "outputs": [
    {
     "data": {
      "text/plain": [
       "0"
      ]
     },
     "execution_count": 1,
     "metadata": {},
     "output_type": "execute_result"
    }
   ],
   "source": [
    "import os\n",
    "os.system('start \"excel\" \"OptionsPivotTables.xlsm\"')"
   ]
  },
  {
   "cell_type": "markdown",
   "metadata": {},
   "source": [
    "## Question 2\n",
    "\n",
    "- Once the P&L’s from the 49 scenarios have been calculated and written to the OptionsData worksheet, create a pivot-table that can display the P&L from one of these scenarios as a function of strike (rows), maturity (columns) and underlying security (page or filter).\n",
    "- Create additional pivot tables for appropriate delta, gamma, vega, volga and vanna numbers. Check to see if the numbers in these pivot tables are consistent with the pivot table in (a) when the underlying security is shifted by -10% and the implied volatilities increase by +10 volatility points.\n",
    "- Suppose you want to create a pivot-table to view the P&L data as a function of the shift in the underlying (rows), the shift in the implied volatilities (columns) and the underlying security (page\n",
    "or filter). Is it possible to do this given the way we have organized the data in the OptionsData worksheet? If yes, do it. If not, explain briefly what design changes you would need to have made in Question 1 so that it would be possible to create such a pivot-table."
   ]
  },
  {
   "cell_type": "markdown",
   "metadata": {},
   "source": [
    "### Solution\n",
    "\n",
    "- This question can be done directly in Excel. \n",
    "- For the second bullet point, make sure to check the vba code for the functions BSVanna and BSVolga do un derstand what they need to be multiplied by in order to get the correct second order terms in the approximation.\n",
    "- The pivot table in the third part cannot be created. The original table should be modified so that a new column contains the scenarios for the underlying. The P&L table constructed in question 1 only contains volatility scenarios (except now there are more rows). Then, underlying scenarios can be used for rows in the pivot table."
   ]
  },
  {
   "cell_type": "markdown",
   "metadata": {},
   "source": [
    "## Question 3\n",
    "\n",
    "- Do you think parallel shifts in the volatility surface represent reasonable scenarios? Can you think of a better set of scenarios for representing shifts in the implied volatility surface? Put another\n",
    "way, suppose a crisis occurs tomorrow and all implied volatilities increase. Do you think near-term volatilities will increase more or less than long-term implied volatilities? (This question is designed\n",
    "to show that designing realistic scenario should be based on risk factors movements during crisis.) "
   ]
  },
  {
   "cell_type": "markdown",
   "metadata": {},
   "source": [
    "### Solution\n",
    "\n",
    "Parallel shifts do not represent reasonable scenarios. If a crisis occurs tomorrow, it is more likely to affect short term options rather than longer term ones, as there will be longer time to recover for options with longer maturities. In fact, it is possible to show that parallel shifts are not arbitrage free under reasonable assumptions on the volatility surface. That is, a parallel shifts must always be accompanied by a change in the skew"
   ]
  },
  {
   "cell_type": "markdown",
   "metadata": {},
   "source": [
    "- Suppose an options portfolio is delta, gamma, vega and vanna neutral. Suppose also that the options portfolio is designed to be very short skew, that is the portfolio will benefit if the skew flattens. Do\n",
    "you think scenarios involving shifts in the underlying security and implied volatility surface will reveal the full risk in the portfolio? Explain your answer. What sort of additional scenarios might\n",
    "you want to include? What issues arise when designing these additional scenarios? (This question should impress on you the importance of considering the trading strategy / portfolio composition\n",
    "when designing scenarios. A more basic example occurs if you consider a market-neutral portfolio of stocks. Then just shifting the underlying securities by uniform amounts will not reveal any risk in\n",
    "the portfolio. Likewise, a fixed income portfolio that has a zero duration will reveal very little risk if it is only subjected to stresses based on parallel shifts in the yield curve. Such a portfolio might still be very risky if, for example, it is exposed to changes in the slope of the yield curve or other risk factors.)"
   ]
  },
  {
   "cell_type": "markdown",
   "metadata": {},
   "source": [
    "It is not possible for scenarios only involving shifts in the undelyier and/or the vol surface to fully reveal the risks in the portfolio. This is because a steepening of the vol surface, which implies a loss in the portfolio, cannot be captured by such scenarios."
   ]
  },
  {
   "cell_type": "markdown",
   "metadata": {},
   "source": [
    "# Question 4\n",
    "\n",
    "- Compute the VaR and Expected-Shortfall (ES) for (i) the normal distribution with mean $\\mu = 0$ and standard deviation $\\sigma = 0.3 × 10000/\\sqrt{250}$ and (ii) the $t_4$ distribution with the same values of $\\mu$ and $\\sigma$. (Note that if we assume that the horizon is $\\Delta = 1$ day, then a value of $\\sigma = .3/\\sqrt{250}$ corresponds to an annual volatility of approx $30\\%$. The value of 250 corresponds to the fact that there are approx. 250 trading days in a calendar year. The multiplier of 10000 is there simply to make the numbers more readable.) You should compute the VaR and ES for the following values of α: $$\\begin{align*}0.90, 0.95, 0.975, 0.99, 0.995, 0.999, 0.9999, 0.99999, 0.999999.\\end{align*}$$"
   ]
  },
  {
   "cell_type": "code",
   "execution_count": null,
   "metadata": {},
   "outputs": [],
   "source": [
    "import math\n",
    "import scipy.stats as st\n",
    "mu = 0\n",
    "sigma = 0.3*10000/math.sqrt(250)\n",
    "nu = 4\n",
    "alpha = [0.9,0.95,0.975,0.99,0.995,0.999,0.9999,0.99999,0.999999]\n",
    "alpha_c = [1-aa for aa in alpha]\n",
    "var = dict()\n",
    "ES = dict()\n",
    "var[\"norm\"] = mu + sigma * st.norm.ppf(alpha)\n",
    "ES[\"norm\"] = mu + sigma * st.norm.pdf(st.norm.ppf(alpha))/alpha_c\n",
    "var[\"t4\"] = mu + sigma * st.t.ppf(alpha,nu)\n",
    "ES[\"t4\"] = mu + sigma * (st.t.pdf(st.t.ppf(alpha,nu),nu)/alpha_c) * ( (nu+st.t.ppf(alpha,nu)**2) / (nu-1) )"
   ]
  },
  {
   "cell_type": "code",
   "execution_count": 62,
   "metadata": {},
   "outputs": [
    {
     "data": {
      "text/plain": [
       "<matplotlib.legend.Legend at 0x1c0495ec3e0>"
      ]
     },
     "execution_count": 62,
     "metadata": {},
     "output_type": "execute_result"
    },
    {
     "data": {
      "image/png": "[encoded data removed]",
      "text/plain": [
       "<Figure size 640x480 with 1 Axes>"
      ]
     },
     "metadata": {},
     "output_type": "display_data"
    }
   ],
   "source": [
    "import matplotlib.pyplot as plt\n",
    "\n",
    "ax = plt.gca()  # or any other way to get an axis object\n",
    "ax.plot(alpha_c, var[\"norm\"], label=r'$VaR_{Normal}$')\n",
    "ax.plot(alpha_c, var[\"t4\"], label=r'$VaR_{t_4}$')\n",
    "ax.plot(alpha_c, ES[\"norm\"], label=r'$ES_{Normal}$')\n",
    "ax.plot(alpha_c, ES[\"t4\"], label=r'$ES_{t_4}$')\n",
    "plt.xlabel(r'$1-\\alpha$')\n",
    "ax.legend()"
   ]
  },
  {
   "cell_type": "code",
   "execution_count": 69,
   "metadata": {},
   "outputs": [
    {
     "name": "stdout",
     "output_type": "stream",
     "text": [
      "[0.9, 0.95, 0.975, 0.99, 0.995, 0.999, 0.9999, 0.99999, 0.999999]\n",
      "[243.15731316 312.08903273 371.87701938 441.39347471 488.72924778\n",
      " 586.33035519 705.63376499 809.20613284 901.89885006]\n",
      "[ 290.90543693  404.48948804  526.79341985  710.93328113  873.56558143\n",
      " 1361.01563316 2472.96533482 4426.97040707 7888.84316021]\n",
      "[332.98467268 391.37223783 443.56689262 505.68884331 548.70866815\n",
      " 638.86042383 751.06870926 849.77983513 938.88012028]\n",
      "[  474.21647943   607.70193126   757.72416945   990.53620628\n",
      "  1200.05224895  1837.83087772  3310.1642058   5909.8445992\n",
      " 10522.51195506]\n"
     ]
    }
   ],
   "source": [
    "print(alpha)\n",
    "print(var[\"norm\"])\n",
    "print(var[\"t4\"])\n",
    "print(ES[\"norm\"])\n",
    "print(ES[\"t4\"])\n"
   ]
  },
  {
   "cell_type": "markdown",
   "metadata": {},
   "source": [
    "- What do you notice? Now compute the ES to VaR ratio for each value of α. Report all your results in a table."
   ]
  },
  {
   "cell_type": "code",
   "execution_count": 47,
   "metadata": {},
   "outputs": [
    {
     "data": {
      "text/plain": [
       "<matplotlib.legend.Legend at 0x1c046228830>"
      ]
     },
     "execution_count": 47,
     "metadata": {},
     "output_type": "execute_result"
    },
    {
     "data": {
      "image/png": "[encoded data removed]",
      "text/plain": [
       "<Figure size 640x480 with 1 Axes>"
      ]
     },
     "metadata": {},
     "output_type": "display_data"
    }
   ],
   "source": [
    "ratio = dict()\n",
    "ratio[\"norm\"]= ES[\"norm\"]/var[\"norm\"]\n",
    "ratio[\"t4\"]= ES[\"t4\"]/var[\"t4\"]\n",
    "\n",
    "ax = plt.gca()  # or any other way to get an axis object\n",
    "ax.plot(alpha, ratio[\"norm\"], label=r'$ratio_{Normal}$')\n",
    "ax.plot(alpha, ratio[\"t4\"], label=r'$ratio_{t_4}$')\n",
    "plt.xlabel(r'$1-\\alpha$')\n",
    "ax.legend()\n"
   ]
  }
 ],
 "metadata": {
  "kernelspec": {
   "display_name": "CFRM541_QRM",
   "language": "python",
   "name": "python3"
  },
  "language_info": {
   "codemirror_mode": {
    "name": "ipython",
    "version": 3
   },
   "file_extension": ".py",
   "mimetype": "text/x-python",
   "name": "python",
   "nbconvert_exporter": "python",
   "pygments_lexer": "ipython3",
   "version": "3.12.7"
  }
 },
 "nbformat": 4,
 "nbformat_minor": 2
}
