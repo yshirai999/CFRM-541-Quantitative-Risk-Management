{
 "cells": [
  {
   "cell_type": "markdown",
   "metadata": {},
   "source": [
    "# Homework 1, Question 1\n",
    "\n",
    "N.B. The inspiration for this problem and the data itself is from Prof. Haugh's Quantitative Risk Management course (IEOR E4602) taught at Columbia University in 2016."
   ]
  },
  {
   "cell_type": "code",
   "execution_count": 1,
   "metadata": {},
   "outputs": [
    {
     "data": {
      "text/plain": [
       "0"
      ]
     },
     "execution_count": 1,
     "metadata": {},
     "output_type": "execute_result"
    }
   ],
   "source": [
    "import os\n",
    "os.system(\"start EXCEL.EXE OptionsPivotTables.xlsm\")"
   ]
  },
  {
   "cell_type": "code",
   "execution_count": 1,
   "metadata": {},
   "outputs": [
    {
     "name": "stdout",
     "output_type": "stream",
     "text": [
      "83\n"
     ]
    }
   ],
   "source": [
    "from openpyxl import load_workbook\n",
    "\n",
    "file_path = 'C://Users//yoshi//OneDrive//Desktop//Teaching//CFRM541 QRM//QRM_Git//QRM//H1//OptionsPivotTables.xlsm'\n",
    "\n",
    "wb = load_workbook(filename=file_path, read_only=False, keep_vba=True)\n",
    "\n",
    "ws = wb['OptionsData']  # or wb.active\n",
    "\n",
    "r = 5\n",
    "row = ws[r][1].value\n",
    "NumPosition = 0\n",
    "while row is not None:\n",
    "    NumPosition += 1\n",
    "    r += 1\n",
    "    row = ws[r][0].value\n",
    "\n",
    "print(NumPosition)\n",
    "\n",
    "# print(NumPosition)\n",
    "\n",
    "#wb.save(file_path)"
   ]
  },
  {
   "cell_type": "code",
   "execution_count": 2,
   "metadata": {},
   "outputs": [
    {
     "name": "stdout",
     "output_type": "stream",
     "text": [
      "=(BSPrice($B5*0.8,$J5, $K5, $C5, ($I5-$B$1)/365, $G5, $H5, $D5) - BSPrice($B5,$J5, $K5, $C5, ($I5-$B$1)/365, $G5, $H5, $D5)) * $F5\n"
     ]
    }
   ],
   "source": [
    "fun = ws['AB5'].value\n",
    "print(fun)\n",
    "ws['AR5'].value = fun\n",
    "wb.save(file_path)"
   ]
  },
  {
   "cell_type": "code",
   "execution_count": 6,
   "metadata": {},
   "outputs": [
    {
     "name": "stdout",
     "output_type": "stream",
     "text": [
      "-5479.544980960966\n"
     ]
    }
   ],
   "source": [
    "import xlwings as xw\n",
    "file_path = 'C://Users//yoshi//OneDrive//Desktop//Teaching//CFRM541 QRM//QRM_Git//QRM//H1//OptionsPivotTables.xlsm'\n",
    "wb = xw.Book(file_path)\n",
    "ws = wb.sheets['OptionsData']\n",
    "\n",
    "print(ws['AR5'].value)\n",
    "app = wb.app\n",
    "wb.close()\n",
    "app.kill()"
   ]
  },
  {
   "cell_type": "code",
   "execution_count": null,
   "metadata": {},
   "outputs": [],
   "source": []
  }
 ],
 "metadata": {
  "language_info": {
   "name": "python"
  }
 },
 "nbformat": 4,
 "nbformat_minor": 2
}
