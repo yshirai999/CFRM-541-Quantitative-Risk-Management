{
 "cells": [
  {
   "cell_type": "markdown",
   "metadata": {},
   "source": [
    "# Homework 1, Question 1\n",
    "\n",
    "- The inspiration for this problem and the data itself is from Prof. Haugh's Quantitative Risk Management course (IEOR E4602) taught at Columbia University in 2016.\n",
    "- Consider the options data in the OptionsPivotTables.xls Excel workbook.\n",
    "- We want to consider joint stresses of the underlying security price and implied volatility. \n",
    "- In particular, we want to consider shifting the underlying security by -20\\%, -10\\%, -5\\%, 0\\%, +5\\%, +10\\% and +20\\%, and shifting the implied volatility by -5, -2, 0, +2, +5, +10 and +20 volatility points. We therefore have a total of 7 × 7 = 49 scenarios.\n",
    "\n",
    "- **Write a Python program that takes all the options data in the OptionsData worksheet, computes the P&L for each option under each scenario and outputs the results to the same\n",
    "spreadsheet beginning at column AR.**"
   ]
  },
  {
   "cell_type": "markdown",
   "metadata": {},
   "source": [
    "First, we count the number of assets in our portfolio. This value is saved as ``NumPosition``."
   ]
  },
  {
   "cell_type": "code",
   "execution_count": 1,
   "metadata": {},
   "outputs": [
    {
     "name": "stdout",
     "output_type": "stream",
     "text": [
      "83\n"
     ]
    }
   ],
   "source": [
    "from openpyxl import load_workbook\n",
    "from openpyxl.styles import Alignment\n",
    "\n",
    "file_path = 'C://Users//yoshi//OneDrive//Desktop//Teaching//CFRM541 QRM//QRM_Git//QRM//H1//OptionsPivotTables.xlsm'\n",
    "\n",
    "wb = load_workbook(filename=file_path, read_only=False, keep_vba=True)\n",
    "\n",
    "ws = wb['OptionsData']  # or wb.active\n",
    "\n",
    "r = 5\n",
    "row = ws[r][1].value\n",
    "NumPosition = 0\n",
    "while row is not None:\n",
    "    NumPosition += 1\n",
    "    r += 1\n",
    "    row = ws[r][0].value\n",
    "\n",
    "print(NumPosition)\n"
   ]
  },
  {
   "cell_type": "markdown",
   "metadata": {},
   "source": [
    "Next, we loop over each portfolio component, and insert the appropriate formula for the variation in the option price starting from cell AR5 in the OptionData worksheet."
   ]
  },
  {
   "cell_type": "code",
   "execution_count": 2,
   "metadata": {},
   "outputs": [],
   "source": [
    "# Define a lambda function to get Excel worksheet column letter from number\n",
    "excel_col_name = lambda n: '' if n <= 0 else excel_col_name((n - 1) // 26) + chr((n - 1) % 26 + ord('A'))\n",
    "excel_col_num = lambda a: 0 if a == '' else 1 + ord(a[-1]) - ord('A') + 26 * excel_col_num(a[:-1]) # This is to convert back to number\n",
    "\n",
    "# Define scenarios\n",
    "S = list([0.8,0.9,0.95,1,1.05,1.1,1.2])\n",
    "V = list([-0.05,-0.02,0,0.02,0.05,0.1,0.2])\n",
    "scenarios = [(s,v) for s in S for v in V] # list comprehension to get all scenarios as combinations of underlying and implied volatility scenarios\n",
    "\n",
    "# Define header of scenario table and adjust column width\n",
    "c = excel_col_num(\"AR\")\n",
    "for (s,v) in scenarios:\n",
    "    ss = str(s)\n",
    "    vv = str(v)\n",
    "    ws[excel_col_name(c)+str(4)].value = f\"Und {round((s-1)*100)}%, ImpVol {round(100*v)}%\"\n",
    "    ws.column_dimensions[excel_col_name(c)].width = 19*1.23\n",
    "    ws[excel_col_name(c)+str(4)].alignment = Alignment(horizontal='center')\n",
    "    c += 1\n",
    "\n",
    "\n",
    "# Loop through all scenarios and fill up table with value change\n",
    "for r in range(5,NumPosition):\n",
    "    c = excel_col_num(\"AR\")\n",
    "    for (s,v) in scenarios:\n",
    "        ss = str(s)\n",
    "        vv = str(v)\n",
    "        fun = f\"=(BSPrice($B{r}*{s},$J{r}+{v}, $K{r}, $C{r}, ($I{r}-$B$1)/365, $G{r}, $H{r}, $D{r}) - BSPrice($B{r},$J{r}, $K{r}, $C{r}, ($I{r}-$B$1)/365, $G{r}, $H{r}, $D{r})) * $F{r}\"\n",
    "        ws[excel_col_name(c)+str(r)].value = fun\n",
    "        ws[excel_col_name(c)+str(r)].alignment = Alignment(horizontal='center')\n",
    "        ws[excel_col_name(c)+str(r)].number_format = '0'\n",
    "        c += 1\n",
    "\n",
    "# Save file                                                       \n",
    "wb.save(file_path)"
   ]
  },
  {
   "cell_type": "markdown",
   "metadata": {},
   "source": [
    "Finally, check the workbook"
   ]
  },
  {
   "cell_type": "code",
   "execution_count": 2,
   "metadata": {},
   "outputs": [
    {
     "data": {
      "text/plain": [
       "0"
      ]
     },
     "execution_count": 2,
     "metadata": {},
     "output_type": "execute_result"
    }
   ],
   "source": [
    "import os\n",
    "os.system('start \"excel\" \"OptionsPivotTables.xlsm\"')"
   ]
  }
 ],
 "metadata": {
  "kernelspec": {
   "display_name": "CFRM541_QRM",
   "language": "python",
   "name": "python3"
  },
  "language_info": {
   "codemirror_mode": {
    "name": "ipython",
    "version": 3
   },
   "file_extension": ".py",
   "mimetype": "text/x-python",
   "name": "python",
   "nbconvert_exporter": "python",
   "pygments_lexer": "ipython3",
   "version": "3.12.7"
  }
 },
 "nbformat": 4,
 "nbformat_minor": 2
}
