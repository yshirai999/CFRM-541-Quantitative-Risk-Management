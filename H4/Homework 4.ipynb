{
 "cells": [
  {
   "cell_type": "markdown",
   "metadata": {},
   "source": [
    "# Homework 4"
   ]
  },
  {
   "cell_type": "markdown",
   "metadata": {},
   "source": [
    "## Question 1\n",
    "\n",
    "- Consider the model setup we saw in class for CDOs, where we assumed that the pairwise correlations were identical, that recovery rates were identical and that there was a single factor, $M$. We defined $p^N(l,t|M)$ to be the (risk-neutral) probability of $l$ defaults before time $t$ in a portfolio of $N$ names conditional on $M$. We also assumed that $F_i(t|M)$, the risk-neutral probability that the $i$-th name defaults before time $t$ conditional on $M$, is known for $i = 1,..., N$.\n",
    "    - (a) Assuming $p^k(l, t|M)$ is known for $l = 0, ... , k$, describe how you would compute $p^{k+1}(l, t|M)$ for $l = 0, ..., k + 1$.\n",
    "    - (b) Now write a program using your answer to part (a) to compute $p^N (l, t|M)$ for $l = 1,... , N$. Your code should begin with $k = 0$ and iterate until $k = N$."
   ]
  },
  {
   "cell_type": "markdown",
   "metadata": {},
   "source": [
    "## Question 2\n",
    "\n",
    "It is important that risk managers be able to stress correlation matrices as many securities have significant exposure to correlation. Can you create a simple method for stressing a correlation matrix “up” or “down” where the stress is a function of just a single parameter? Note that your stressed matrix must also be a correlation matrix. Describe how you would use your method to estimate the correlation sensitivity of a derivative instrument. Note that these correlation stresses can also be applied to Gaussian or t copula models (which we will study later) with arbitrary marginal distributions. (This question is looking for an alternative method to the one from the second assignment that was based on the spectral or eigen decomposition of a correlation matrix.)"
   ]
  },
  {
   "cell_type": "markdown",
   "metadata": {},
   "source": [
    "## Question 3\n",
    "\n",
    "Let $\\rho$ be a risk measure on some convex cone $\\mathcal{M}$, that satisfies the subadditivity and positive homogeneity axioms. Show that the montonicity axiom is then equivalent to the requirement that $\\rho(L)\\leq 0$ for all $L\\leq 0$."
   ]
  },
  {
   "cell_type": "markdown",
   "metadata": {},
   "source": [
    "## Question 4\n",
    "\n",
    "Write a piece of software to compute the VaR contributions of each security in a given portfolio of n securities. You may assume that the loss vector, $L = (L_1, . . . , L_n)$, satisfies $L ∼ MNn(0, \\Sigma)$  so that the contributions can also be calculated analytically. You should compute the analytic contributions as well as estimate the contributions using the Monte-Carlo approaches outlined in class. Finally, create a vertical bar chart where each bar shows each security contribution for one of the analytic or the MonteCarlo approaches. (Please provide a printed copy of your code with your assignment submission.)\n"
   ]
  }
 ],
 "metadata": {
  "language_info": {
   "name": "python"
  }
 },
 "nbformat": 4,
 "nbformat_minor": 2
}
