{
 "cells": [
  {
   "cell_type": "markdown",
   "metadata": {},
   "source": [
    "# Homework 4\n",
    "\n",
    "## Due date: March 13 2025, 11.59 pm\n",
    "\n",
    "## Instructions\n",
    "Submit this notebook on Canvas with your answer to each questions, including your code. Run the notebook and submit also an html version of the notebook. "
   ]
  },
  {
   "cell_type": "markdown",
   "metadata": {},
   "source": [
    "## Question 1\n",
    "\n",
    "It is important that risk managers be able to stress correlation matrices as many securities have significant exposure to correlation. \n",
    "\n",
    "- (a) Can you create a simple method for stressing an equicorrelation matrix “up” or “down” where the stress is a function of just a single parameter? Note that your stressed matrix must also be a correlation matrix. Describe how you would use your method to estimate the correlation sensitivity of a derivative instrument. Note that these correlation stresses can also be applied to Gaussian or t copula models with arbitrary marginal distributions. (This question is looking for an alternative method to the one from the second assignment that was based on the spectral or eigen decomposition of a correlation matrix.)\n",
    "- (b) In the paper **A new parametrization of correlation matrices** [I. Archakov and P.R. Hansen, Econometrica, 89(4), 2021] it is shown that for any real symmetric matrix $A$ there is a unique vector x such that $A[x]$ is the logarithmic matrix of a correlation matrix $C$, where:\n",
    "    - given a correlation matrix $C$, $\\log(C)=Q\\log(\\Lambda)Q'$, where $Q\\Lambda Q'$ is the spectral decomposition of the matrix $C$;\n",
    "    - for a real symmetric matrix $A$, $vecl(A)$ is the vector of low off-diagonal elements of a matrix $A$\n",
    "    - $A[x]$ is the symmetric matrix with low off-diagonal elements given by $vecl(A)$ and diagonal elements given by $x$\n",
    "        \n",
    "    Furthermore, the vector $x$ can be computed based on the following iterative procedure: given an arbitrary initial vector $x_0$ set $$\\begin{align*} x_{k+1}=x_k-\\log diag(e^{A[x_k]})\\end{align*}.$$ \n",
    "    Answer the following questions:\n",
    "    - construct a function that implements the Archakov and Hansen algorithm to construct a correlation matrix $C$ given any initial vector $d$ of low off-diagonal elements;\n",
    "    - assuming that you have an estimate for the low off-diagonal vector, how would you estimate sensitivities of a derivative to such vector?"
   ]
  },
  {
   "cell_type": "markdown",
   "metadata": {},
   "source": [
    "The construction of the correlation matrix now depends on estimating a vector $v$ of $n(n-1)/2$ parameters corresponding to the low off-diagonal matrix of the matrix logarithm of $C$. Confidence intervals for these parameters could be created, and the price of the derivative should be stressed to variations in the $v$ within such intervals."
   ]
  },
  {
   "cell_type": "markdown",
   "metadata": {},
   "source": [
    "## Question 2\n",
    "\n",
    "Let $\\rho$ be a risk measure on some convex cone $\\mathcal{M}$, that satisfies the subadditivity and positive homogeneity axioms. Show that the montonicity axiom is then equivalent to the requirement that $\\rho(L)\\leq 0$ for all $L\\leq 0$."
   ]
  },
  {
   "cell_type": "markdown",
   "metadata": {},
   "source": [
    "## Question 3\n",
    "\n",
    "Write a piece of software to compute the VaR contributions of each security in a given portfolio of n securities. You may assume that the loss vector, $L = (L_1, . . . , L_n)$, satisfies $L ∼ MN_n(0, \\Sigma)$  so that the contributions can also be calculated analytically. You should compute the analytic contributions as well as estimate the contributions using the Monte-Carlo approaches outlined in class. Test your code by creating a covariance matrix with $n=5$ such that first three securities have positive correlation with each others, the fourth security has zero correlation with all the other securities, the last one has negative correlation with all other secuties. Finally, create a vertical bar chart where each bar shows each security contribution for one of the analytic or the MonteCarlo approaches. (Please provide a printed copy of your code with your assignment submission.)\n",
    "\n",
    "**Hint**. To generate the correlation matrix, use the Archakov Hansen algorithm with an appropriate specification of the off diagonal elements of $A$. For the elements with positive correlation with each others, assuming a target positive correlation of $\\rho_p>0$, set the corresponding off-diagonal elements of the matrix $A$ to $$\\begin{align*} \\gamma_p = -\\frac{1}{n}\\log\\left(\\frac{1-\\rho_p}{1+\\rho_p(n-1)}\\right) \\end{align*}$$ Set the off-diagonal elements of $A$ corresponding to the fourth security to zero. Finally, set the last off-diagonal elements of $A$ to  $$\\begin{align*} \\gamma_n = \\frac{1}{n}\\log\\left(\\frac{1-\\rho_n}{1+\\rho_n(n-1)}\\right), \\end{align*}$$ where $\\rho_n$ is the target negative correlation. The corresponding elements of the resulting correlation matrix will be close to $\\rho_p$ and $\\rho_n$."
   ]
  },
  {
   "cell_type": "markdown",
   "metadata": {},
   "source": [
    "## Question 4\n",
    "\n",
    "Let $R$ denote an $N$-dimensional vector of date $T$ log returns. You may assume $R \\sim MVN(\\mu, \\Sigma)$ where $\\mu_i = 10\\%$ for $i = 1, . . . , N/2$ and $\\mu_i = 20\\%$ for $i = N/2 + 1, . . . , N$. Other parameters are $\\sqrt{\\Sigma_{i,i}} = 30\\%$ for $i = 1, . . . , N$ and $Corr(R_i , R_j ) = 30\\%$ for all $i\\neq j$. Finally you should take $N = 10$, $T = .5$ and $r = 3\\%$ where $r$ is the annualized continuously compounded risk-free interest rate.\n",
    "- (a) Write a piece of code that simulates M sample vectors $R_1, . . . , R_M$ and uses these sample vectors to solve for the portfolio that maximizes the expected return subject to $CVaR_{95} ≤ 50\\%$.\n",
    "- (b) Investigate the bias in the calculated CVaR as a function of $M$. (For a fixed value of $M$ you can do this by simulating the returns on the portfolio from part (a), estimating the corresponding $95\\%$ CVaR and comparing it to $50\\%$.)\n",
    "- (c) Repeat parts (a) and (b) but now with no short-sales constraints on the risky securities. Note that you are still free to borrow at the risk-free rate. \n",
    "- (d) What do you think would be the impact of estimation errors in the portfolio chosen in parts (a) and (c)?\n",
    "\n",
    "(Note that it was not necessary to assume normality of returns in this question. We could have chosen any distribution, including one that incorporated both subjective and objective views on the market."
   ]
  }
 ],
 "metadata": {
  "kernelspec": {
   "display_name": "CFRM541_QRM",
   "language": "python",
   "name": "python3"
  },
  "language_info": {
   "codemirror_mode": {
    "name": "ipython",
    "version": 3
   },
   "file_extension": ".py",
   "mimetype": "text/x-python",
   "name": "python",
   "nbconvert_exporter": "python",
   "pygments_lexer": "ipython3",
   "version": "3.12.7"
  }
 },
 "nbformat": 4,
 "nbformat_minor": 2
}
