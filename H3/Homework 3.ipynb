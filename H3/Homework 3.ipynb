{
 "cells": [
  {
   "cell_type": "markdown",
   "metadata": {},
   "source": [
    "# Homework 3\n",
    "\n",
    "## Due date: March 2 2025, 11.59 pm\n",
    "\n",
    "## Instructions\n",
    "Submit this notebook on Canvas with your answer to each questions, including your code. Run the notebook and submit also an html version of the notebook. "
   ]
  },
  {
   "cell_type": "markdown",
   "metadata": {},
   "source": [
    "## Question 1\n",
    "\n",
    "- Let $X_1$ and $X_2$ be two random variables such that $\\log(X_1) \\sim \\mathcal{N}(0, 1)$ and $\\log(X_2) \\sim \\mathcal{N}(0, \\sigma^2)$ where $\\sigma > 0$.\n",
    "    - Explain why the log-normally-distributed random variables, $X_1$ and $X_2$, are not of the same type when $\\sigma\\neq 1$.\n",
    "    - Let $\\rho_{\\min}$ and $\\rho_{\\max}$ be the minimum and maximum possible correlations, respectively, of $X_1$ and $X_2$. Explain why it must be the case that $\\rho_{\\min} > −1$ and $\\rho_{\\max} < 1$.\n",
    "    - Let $Z \\sim \\mathcal{N}(0, 1)$ and show that if $(X_1, X_2) = (e^Z,e^{\\sigma Z})$ then $X_1$ and $X_2$ are comonotonic. Similarly show that if $(X_1, X_2) = (e^Z,e^{−\\sigma Z})$ then $X_1$ and $X_2$ are countermonotonic.\n",
    "    - Now calculate $\\rho_{\\min}$ and $\\rho_{\\max}$ as a function of $\\sigma$. Plot both of these quantities as a function of $\\sigma$ in the interval $\\sigma\\in [.1, 5]$. What do you conclude?"
   ]
  },
  {
   "cell_type": "markdown",
   "metadata": {},
   "source": [
    "## Question 2\n",
    "\n",
    "Write a function to plot the density of (i) the bivariate Gaussian copula and (ii) the bivariate t-copula for $\\nu = 4$ degrees-of-freedom. Your function should take the correlation, $\\rho$, as an input. Run your function for different values of $\\rho$. What do you notice?\n"
   ]
  },
  {
   "cell_type": "markdown",
   "metadata": {},
   "source": [
    "## Question 3\n",
    "\n",
    "- Write a function that simulates $n$ samples of a bivariate t distribution with $\\nu$ degrees of freedom, mean vector $\\mu$ and correlation $\\rho$ and then calculate estimates of $\\rho$ using (i) the usual Pearson correlation coefficient and (ii) Kendall’s $\\tau$.\n",
    "- Write another function that calls your function from part (a) 2000 times with $n = 60$, $\\rho = .5$ and $\\mu = 0$, and then create two plots corresponding to the estimates produced by methods (i) and (ii) respectively. What estimator do you prefer?"
   ]
  },
  {
   "cell_type": "markdown",
   "metadata": {},
   "source": [
    "## Question 4\n",
    "\n",
    "- Let $S_1, ... , S_N$ denote the time $T$ prices of $N$ securities all of which have been normalized so that their time $t = 0$ price is $1$. Suppose we wish to price a particular basket option that expires at time $T$ with a payoff of $$\\begin{align*}\\max\\{0, S(i) − K\\}\\end{align*}$$ where $S(i)$ is the $i$-th largest security price at time $T$. For example if we take $i = 1$ then the option is a call-on-the-max option whereas if $i = 2$, then the option is a call-on-the-second max. Assume that the risk-neutral distribution of each $S_j$ satisfies $$\\begin{align*}\\log(S_j) \\sim\\mathcal{N}\\left(\\left(r − \\frac{\\sigma_j^2}{2}\\right)T,\\sigma_j^2T\\right)\\end{align*}$$ where $r$ is the risk-free  nterest rate. Thus, each stock is non-dividend paying and follows a geometric-Brownian motion under the risk-neutral probability measure. (In practice, we would not use a log-normal distribution for the $S_j$’s but as we want to focus on the dependency structure, that assumption is fine here.)\n",
    "    - (a) Write a Monte-Carlo simulation to price the basket option with $T = 1$ year, $i = 1$, $r = 2\\%$, $N = 10$ and $\\sigma_1 = ... = \\sigma_N = .3$. You should assume that the risk-neutral dependency structure is given by a Gaussian copula with an equicorrelation matrix with $\\rho = .5$. Your code should output the option price for values of $K = 1.6, 1.65, 1.7, . . . , 2$. (In order to make your Monte-Carlo efficient you might consider using variance reduction techniques.)\n",
    "    - (b) Repeat part (a) but now assume that the dependency structure is given by a multivariate t copula with 4 degrees-of-freedom and the same equicorrelation matrix. \n",
    "    - (c) Repeat parts (a) and (b) but now set $i = 2$. What, if anything do you notice? (You should ensure that your statistical error is sufficiently small as to render comparisons between\n",
    "the prices under the two dependence structures possible.)\n"
   ]
  },
  {
   "cell_type": "markdown",
   "metadata": {},
   "source": [
    "## Question 5\n",
    "\n",
    "- **General observations**\n",
    "    - This question is based on the methodology developed by CreditMetrics for evaluating the credit risk of corporate bond portfolios and other credit sensitive securities.\n",
    "    - The goal in this question is to estimate the $99\\%$ VaR of a portfolio of risky bonds.\n",
    "    - All of the data for this question is contained in the Excel spreadsheet `CorporateBondPortfolioData.xlsx`. \n",
    "- **Details on the portfolio and the credit ratings dynamics**\n",
    "    - The portfolio consists of $20$ corporate bonds of varying maturities, face values, coupons, maturities, and credit ratings.\n",
    "    - In any given year, the rating of a corporate bond may change from one level to another. The dynamics of this process are given by the Ratings Transition Matrix in the spreadsheet. Note that we are implicitly assuming that ratings dynamics are governed by a Markov chain where the current rating is sufficient to determine the probability distribution of next year’s rating. The spreadsheet also contains the 1-year forward curves that should be used to value bonds of differing ratings one year from now. Finally the spreadsheet contains a 20 × 20 correlation matrix. This correlation matrix is the correlation matrix of the Gaussian copula that is used to determine the joint transition ratings of the $20$ bonds.\n",
    "    - The marginal ratings are given by the Ratings Transition Matrix. If a bond defaults over the next year you may assume that a recovery rate of $R = 40\\%$ applies so that the investor will be left with a bond that is worth $40\\%$ of the bond’s face value. (We could easily allow for a random recovery value that varies with the bond’s seniority class but we will just take it to be constant here.)\n",
    "- **Questions**\n",
    "    - (a) Write a code that reads all of the relevant data in from the spreadsheet and collects each relvante table (whose range is named in the Excel spreadsheet) in a dictionary of matrices.\n",
    "    - (b) Simulate $n = 10,000$ scenarios for the portfolio gain / loss one year from now. This gain / loss should be calculated relative to the value of the portfolio one year from now if none of the ratings changed. Estimate the mean, standard deviation and $99\\%$ VaR and CVaR for this portfolio. Compute approximate $95\\%$ confidence intervals for the mean and standard deviation. (An approximate confidence interval for the $99\\%$ VaR and CVaR could also be calculated. It is more complicated, however, so you are not expected to do this.)\n",
    "    - (c) If you assumed that the portfolio gain / loss is given by a normal distribution with the same mean and standard deviation as you estimated in part (a), what would your estimate be for the $99\\%$ VaR?\n"
   ]
  },
  {
   "cell_type": "markdown",
   "metadata": {},
   "source": [
    "## Question 6\n",
    "\n",
    "- Consider the model setup we saw in class for CDOs, where we assumed that the pairwise correlations were identical, that recovery rates were identical and that there was a single factor, $M$. We defined $p^N(l,t|M)$ to be the (risk-neutral) probability of $l$ defaults before time $t$ in a portfolio of $N$ names conditional on $M$. We also assumed that $F_i(t|M)$, the risk-neutral probability that the $i$-th name defaults before time $t$ conditional on $M$, is known for $i = 1,..., N$.\n",
    "    - (a) Assuming $p^k(l, t|M)$ is known for $l = 0, ... , k$, describe how you would compute $p^{k+1}(l, t|M)$ for $l = 0, ..., k + 1$.\n",
    "    - (b) Now write a program using your answer to part (a) to compute $p^N (l, t|M)$ for $l = 1,... , N$. Your code should begin with $k = 0$ and iterate until $k = N$."
   ]
  }
 ],
 "metadata": {
  "kernelspec": {
   "display_name": "CFRM541_QRM",
   "language": "python",
   "name": "python3"
  },
  "language_info": {
   "codemirror_mode": {
    "name": "ipython",
    "version": 3
   },
   "file_extension": ".py",
   "mimetype": "text/x-python",
   "name": "python",
   "nbconvert_exporter": "python",
   "pygments_lexer": "ipython3",
   "version": "3.12.7"
  }
 },
 "nbformat": 4,
 "nbformat_minor": 2
}
